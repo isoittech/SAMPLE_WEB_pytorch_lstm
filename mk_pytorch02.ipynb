{
 "cells": [
  {
   "cell_type": "markdown",
   "metadata": {},
   "source": [
    "# 概要\n",
    "\n",
    "PyTorchを使ってLSTMで文章分類を実装してみた。  \n",
    "前の版ではPytorchでLSTMを使って文章分類（ニュース記事のタイトルのカテゴリ分類）を実装しました。  \n",
    "その際、バッチ化はひとまず置いといて（バッチサイズ=1）で実装していましたが、今回はバッチ化対応した。\n",
    "\n",
    "https://qiita.com/m__k/items/db1a81bb06607d5b0ec5"
   ]
  },
  {
   "cell_type": "code",
   "execution_count": 1,
   "metadata": {},
   "outputs": [],
   "source": [
    "import os\n",
    "from glob import glob\n",
    "import pandas as pd\n",
    "import numpy as np\n",
    "import linecache\n",
    "from IPython.display import Image"
   ]
  },
  {
   "cell_type": "markdown",
   "metadata": {},
   "source": [
    "# データ準備とバッチ化\n",
    "LSTMのインプットの形式は前回の記事でも言及したように文章の長さ × バッチサイズ × ベクトル次元数の３次元テンソルでした。\n",
    "\n",
    "実際のデータ（ニュース記事のタイトル）の長さ（厳密には形態素の数）は異なりますが、データをバッチ化してまとめてLSTMに流すために文章の系列の長さを揃える必要があります。\n",
    "\n",
    "系列の長さを揃えるために単語リストに新しく<pad>（単語ID＝0）を追加して短い文章を0パディングします。\n",
    "詳細はソースコードを見たほうがわかりやすいと思うので、いきなり全ソースを載せつつ、前回の記事と比べてバッチ化対応するために変更した部分に言及してきます。"
   ]
  },
  {
   "cell_type": "code",
   "execution_count": 2,
   "metadata": {},
   "outputs": [
    {
     "name": "stdout",
     "output_type": "stream",
     "text": [
      "['dokujo-tsushin', 'it-life-hack', 'kaden-channel', 'livedoor-homme', 'movie-enter', 'peachy', 'smax', 'sports-watch', 'topic-news']\n"
     ]
    }
   ],
   "source": [
    "# カテゴリを配列で取得\n",
    "categories = [name for name in os.listdir(\"text\") if os.path.isdir(\"text/\" + name)]\n",
    "print(categories)"
   ]
  },
  {
   "cell_type": "code",
   "execution_count": 3,
   "metadata": {},
   "outputs": [
    {
     "name": "stdout",
     "output_type": "stream",
     "text": [
      "type: $<class 'pandas.core.frame.DataFrame'>\n",
      "shape: $(0, 2)\n"
     ]
    },
    {
     "data": {
      "text/html": [
       "<div>\n",
       "<style scoped>\n",
       "    .dataframe tbody tr th:only-of-type {\n",
       "        vertical-align: middle;\n",
       "    }\n",
       "\n",
       "    .dataframe tbody tr th {\n",
       "        vertical-align: top;\n",
       "    }\n",
       "\n",
       "    .dataframe thead th {\n",
       "        text-align: right;\n",
       "    }\n",
       "</style>\n",
       "<table border=\"1\" class=\"dataframe\">\n",
       "  <thead>\n",
       "    <tr style=\"text-align: right;\">\n",
       "      <th></th>\n",
       "      <th>title</th>\n",
       "      <th>category</th>\n",
       "    </tr>\n",
       "  </thead>\n",
       "  <tbody>\n",
       "  </tbody>\n",
       "</table>\n",
       "</div>"
      ],
      "text/plain": [
       "Empty DataFrame\n",
       "Columns: [title, category]\n",
       "Index: []"
      ]
     },
     "execution_count": 3,
     "metadata": {},
     "output_type": "execute_result"
    }
   ],
   "source": [
    "datasets = pd.DataFrame(columns=[\"title\", \"category\"])\n",
    "print(f\"type: ${type(datasets)}\")\n",
    "print(f\"shape: ${datasets.shape}\")\n",
    "datasets"
   ]
  },
  {
   "cell_type": "code",
   "execution_count": 4,
   "metadata": {},
   "outputs": [
    {
     "name": "stdout",
     "output_type": "stream",
     "text": [
      "type: $<class 'pandas.core.frame.DataFrame'>\n",
      "shape: $(7376, 2)\n"
     ]
    },
    {
     "data": {
      "text/html": [
       "<div>\n",
       "<style scoped>\n",
       "    .dataframe tbody tr th:only-of-type {\n",
       "        vertical-align: middle;\n",
       "    }\n",
       "\n",
       "    .dataframe tbody tr th {\n",
       "        vertical-align: top;\n",
       "    }\n",
       "\n",
       "    .dataframe thead th {\n",
       "        text-align: right;\n",
       "    }\n",
       "</style>\n",
       "<table border=\"1\" class=\"dataframe\">\n",
       "  <thead>\n",
       "    <tr style=\"text-align: right;\">\n",
       "      <th></th>\n",
       "      <th>title</th>\n",
       "      <th>category</th>\n",
       "    </tr>\n",
       "  </thead>\n",
       "  <tbody>\n",
       "    <tr>\n",
       "      <th>0</th>\n",
       "      <td>友人代表のスピーチ、独女はどうこなしている？\\n</td>\n",
       "      <td>dokujo-tsushin</td>\n",
       "    </tr>\n",
       "    <tr>\n",
       "      <th>1</th>\n",
       "      <td>ネットで断ち切れない元カレとの縁\\n</td>\n",
       "      <td>dokujo-tsushin</td>\n",
       "    </tr>\n",
       "    <tr>\n",
       "      <th>2</th>\n",
       "      <td>相次ぐ芸能人の“すっぴん”披露　その時、独女の心境は？\\n</td>\n",
       "      <td>dokujo-tsushin</td>\n",
       "    </tr>\n",
       "    <tr>\n",
       "      <th>3</th>\n",
       "      <td>ムダな抵抗！？ 加齢の現実\\n</td>\n",
       "      <td>dokujo-tsushin</td>\n",
       "    </tr>\n",
       "    <tr>\n",
       "      <th>4</th>\n",
       "      <td>税金を払うのは私たちなんですけど！\\n</td>\n",
       "      <td>dokujo-tsushin</td>\n",
       "    </tr>\n",
       "    <tr>\n",
       "      <th>...</th>\n",
       "      <td>...</td>\n",
       "      <td>...</td>\n",
       "    </tr>\n",
       "    <tr>\n",
       "      <th>7371</th>\n",
       "      <td>爆笑問題・田中裕二も驚く「ひるおび!」での恵俊彰の“天然”ぶり\\n</td>\n",
       "      <td>topic-news</td>\n",
       "    </tr>\n",
       "    <tr>\n",
       "      <th>7372</th>\n",
       "      <td>黒田勇樹のDV騒動 ネット掲示板では冷ややかな声も\\n</td>\n",
       "      <td>topic-news</td>\n",
       "    </tr>\n",
       "    <tr>\n",
       "      <th>7373</th>\n",
       "      <td>サムスンのアンドロイド搭載カメラが韓国で話題に\\n</td>\n",
       "      <td>topic-news</td>\n",
       "    </tr>\n",
       "    <tr>\n",
       "      <th>7374</th>\n",
       "      <td>米紙も注目したゲーム「竹島争奪戦」\\n</td>\n",
       "      <td>topic-news</td>\n",
       "    </tr>\n",
       "    <tr>\n",
       "      <th>7375</th>\n",
       "      <td>ジャンプ連載漫画が終了に、ユーザが新たな提案!?\\n</td>\n",
       "      <td>topic-news</td>\n",
       "    </tr>\n",
       "  </tbody>\n",
       "</table>\n",
       "<p>7376 rows × 2 columns</p>\n",
       "</div>"
      ],
      "text/plain": [
       "                                   title        category\n",
       "0               友人代表のスピーチ、独女はどうこなしている？\\n  dokujo-tsushin\n",
       "1                     ネットで断ち切れない元カレとの縁\\n  dokujo-tsushin\n",
       "2          相次ぐ芸能人の“すっぴん”披露　その時、独女の心境は？\\n  dokujo-tsushin\n",
       "3                        ムダな抵抗！？ 加齢の現実\\n  dokujo-tsushin\n",
       "4                    税金を払うのは私たちなんですけど！\\n  dokujo-tsushin\n",
       "...                                  ...             ...\n",
       "7371   爆笑問題・田中裕二も驚く「ひるおび!」での恵俊彰の“天然”ぶり\\n      topic-news\n",
       "7372         黒田勇樹のDV騒動 ネット掲示板では冷ややかな声も\\n      topic-news\n",
       "7373           サムスンのアンドロイド搭載カメラが韓国で話題に\\n      topic-news\n",
       "7374                 米紙も注目したゲーム「竹島争奪戦」\\n      topic-news\n",
       "7375          ジャンプ連載漫画が終了に、ユーザが新たな提案!?\\n      topic-news\n",
       "\n",
       "[7376 rows x 2 columns]"
      ]
     },
     "execution_count": 4,
     "metadata": {},
     "output_type": "execute_result"
    }
   ],
   "source": [
    "for cat in categories:\n",
    "    path = \"text/\" + cat + \"/*.txt\"\n",
    "    files = glob(path)\n",
    "    for text_name in files:\n",
    "        title = linecache.getline(text_name, 3)\n",
    "        s = pd.Series([title, cat], index=datasets.columns)\n",
    "        datasets = datasets.append(s, ignore_index=True)\n",
    "\n",
    "print(f\"type: ${type(datasets)}\")\n",
    "print(f\"shape: ${datasets.shape}\")\n",
    "datasets"
   ]
  },
  {
   "cell_type": "markdown",
   "metadata": {},
   "source": [
    "## 形態素解析エンジン定義\n"
   ]
  },
  {
   "cell_type": "code",
   "execution_count": 5,
   "metadata": {},
   "outputs": [],
   "source": [
    "import MeCab\n",
    "import re\n",
    "\n",
    "tagger = MeCab.Tagger(\"-Owakati\")\n",
    "\n",
    "def make_wakati(sentence):\n",
    "    sentence = tagger.parse(sentence)\n",
    "    sentence = re.sub(r'[0-9０-９a-zA-Zａ-ｚＡ-Ｚ]+', \" \", sentence)\n",
    "    sentence = re.sub(r'[\\．_－―─！＠＃＄％＾＆\\-‐|\\\\＊\\“（）＿■×+α※÷⇒—●★☆〇◎◆▼◇△□(：〜～＋=)／*&^%$#@!~`){}［］…\\[\\]\\\"\\'\\”\\’:;<>?＜＞〔〕〈〉？、。・,\\./『』【】「」→←○《》≪≫\\n\\u3000]+', \"\", sentence)\n",
    "    wakati = sentence.split(\" \")\n",
    "    wakati = list(filter((\"\").__ne__, wakati))\n",
    "    return wakati\n"
   ]
  },
  {
   "cell_type": "markdown",
   "metadata": {},
   "source": [
    "## 単語IDの辞書を定義\n",
    "単語IDの辞書に新しく\\<pad\\>を追加"
   ]
  },
  {
   "cell_type": "code",
   "execution_count": 6,
   "metadata": {},
   "outputs": [
    {
     "name": "stdout",
     "output_type": "stream",
     "text": [
      "vocab size :  13277\n"
     ]
    }
   ],
   "source": [
    "word2index = {}\n",
    "# 系列を揃えるためのパディング文字列<pad>を追加\n",
    "# パディング文字列のIDは0とする\n",
    "word2index.update({\"<pad>\":0})\n",
    "\n",
    "for title in datasets[\"title\"]:\n",
    "    wakati = make_wakati(title)\n",
    "    for word in wakati:\n",
    "        if word in word2index: continue\n",
    "        word2index[word] = len(word2index)\n",
    "print(\"vocab size : \", len(word2index))"
   ]
  },
  {
   "cell_type": "markdown",
   "metadata": {},
   "source": [
    "## 系列の長さを揃えてバッチでまとめる\n"
   ]
  },
  {
   "cell_type": "code",
   "execution_count": 7,
   "metadata": {},
   "outputs": [
    {
     "data": {
      "text/plain": [
       "{'dokujo-tsushin': 0,\n",
       " 'it-life-hack': 1,\n",
       " 'kaden-channel': 2,\n",
       " 'livedoor-homme': 3,\n",
       " 'movie-enter': 4,\n",
       " 'peachy': 5,\n",
       " 'smax': 6,\n",
       " 'sports-watch': 7,\n",
       " 'topic-news': 8}"
      ]
     },
     "execution_count": 7,
     "metadata": {},
     "output_type": "execute_result"
    }
   ],
   "source": [
    "from sklearn.model_selection import train_test_split\n",
    "import random\n",
    "from sklearn.utils import shuffle\n",
    "\n",
    "cat2index = {}\n",
    "for cat in categories:\n",
    "    if cat in cat2index: continue\n",
    "    cat2index[cat] = len(cat2index)\n",
    "    \n",
    "cat2index"
   ]
  },
  {
   "cell_type": "code",
   "execution_count": 8,
   "metadata": {},
   "outputs": [],
   "source": [
    "def sentence2index(sentence):\n",
    "    wakati = make_wakati(sentence)\n",
    "    return [word2index[w] for w in wakati]\n",
    "\n",
    "def category2index(cat):\n",
    "    return [cat2index[cat]]"
   ]
  },
  {
   "cell_type": "code",
   "execution_count": 9,
   "metadata": {},
   "outputs": [
    {
     "name": "stdout",
     "output_type": "stream",
     "text": [
      "<class 'list'>\n"
     ]
    },
    {
     "data": {
      "text/plain": [
       "[[1, 2, 3, 4, 5, 6, 7, 8, 9, 10, 11],\n",
       " [12, 13, 14, 15, 16, 17, 18, 3, 19],\n",
       " [20, 21, 3, 22, 23, 24, 25, 5, 6, 3, 26, 7],\n",
       " [27, 28, 29, 30, 31, 3, 32],\n",
       " [33, 34, 35, 3, 7, 36, 37, 28, 38, 39, 40],\n",
       " [41, 13, 42, 43, 10, 42, 44, 3, 45, 34, 46, 47, 3, 48],\n",
       " [44, 49, 50, 10, 51, 52, 53, 15, 54, 55, 56, 57],\n",
       " [58, 53, 10, 51, 59, 3, 7, 60, 61, 45, 3, 62],\n",
       " [54, 63, 49, 64, 65, 66, 67, 68, 69, 49, 70, 5, 6, 3, 71, 3, 72, 18, 7],\n",
       " [73, 74, 13, 75, 76, 77, 68, 78, 79, 80, 81]]"
      ]
     },
     "execution_count": 9,
     "metadata": {},
     "output_type": "execute_result"
    }
   ],
   "source": [
    "index_datasets_title_tmp = []\n",
    "index_datasets_category = []\n",
    "\n",
    "# 系列の長さの最大値を取得。この長さに他の系列の長さをあわせる\n",
    "max_len = 0\n",
    "for title, category in zip(datasets[\"title\"], datasets[\"category\"]):\n",
    "  index_title = sentence2index(title)\n",
    "  index_category = category2index(category)\n",
    "  index_datasets_title_tmp.append(index_title)\n",
    "  index_datasets_category.append(index_category)\n",
    "  if max_len < len(index_title):\n",
    "    max_len = len(index_title)\n",
    "\n",
    "print(type(index_datasets_title_tmp))\n",
    "index_datasets_title_tmp[:10]"
   ]
  },
  {
   "cell_type": "code",
   "execution_count": 23,
   "metadata": {},
   "outputs": [
    {
     "data": {
      "text/plain": [
       "38"
      ]
     },
     "execution_count": 23,
     "metadata": {},
     "output_type": "execute_result"
    }
   ],
   "source": [
    "max_len"
   ]
  },
  {
   "cell_type": "code",
   "execution_count": 10,
   "metadata": {},
   "outputs": [
    {
     "name": "stdout",
     "output_type": "stream",
     "text": [
      "<class 'list'>\n"
     ]
    },
    {
     "data": {
      "text/plain": [
       "[[0], [0], [0], [0], [0], [0], [0], [0], [0], [0]]"
      ]
     },
     "execution_count": 10,
     "metadata": {},
     "output_type": "execute_result"
    }
   ],
   "source": [
    "print(type(index_datasets_category))\n",
    "index_datasets_category[:10]"
   ]
  },
  {
   "cell_type": "code",
   "execution_count": 11,
   "metadata": {},
   "outputs": [
    {
     "name": "stdout",
     "output_type": "stream",
     "text": [
      "<class 'list'>\n"
     ]
    },
    {
     "data": {
      "text/plain": [
       "[[0,\n",
       "  0,\n",
       "  0,\n",
       "  0,\n",
       "  0,\n",
       "  0,\n",
       "  0,\n",
       "  0,\n",
       "  0,\n",
       "  0,\n",
       "  0,\n",
       "  0,\n",
       "  0,\n",
       "  0,\n",
       "  0,\n",
       "  0,\n",
       "  0,\n",
       "  0,\n",
       "  0,\n",
       "  0,\n",
       "  0,\n",
       "  0,\n",
       "  0,\n",
       "  0,\n",
       "  0,\n",
       "  0,\n",
       "  0,\n",
       "  1,\n",
       "  2,\n",
       "  3,\n",
       "  4,\n",
       "  5,\n",
       "  6,\n",
       "  7,\n",
       "  8,\n",
       "  9,\n",
       "  10,\n",
       "  11],\n",
       " [0,\n",
       "  0,\n",
       "  0,\n",
       "  0,\n",
       "  0,\n",
       "  0,\n",
       "  0,\n",
       "  0,\n",
       "  0,\n",
       "  0,\n",
       "  0,\n",
       "  0,\n",
       "  0,\n",
       "  0,\n",
       "  0,\n",
       "  0,\n",
       "  0,\n",
       "  0,\n",
       "  0,\n",
       "  0,\n",
       "  0,\n",
       "  0,\n",
       "  0,\n",
       "  0,\n",
       "  0,\n",
       "  0,\n",
       "  0,\n",
       "  0,\n",
       "  0,\n",
       "  12,\n",
       "  13,\n",
       "  14,\n",
       "  15,\n",
       "  16,\n",
       "  17,\n",
       "  18,\n",
       "  3,\n",
       "  19],\n",
       " [0,\n",
       "  0,\n",
       "  0,\n",
       "  0,\n",
       "  0,\n",
       "  0,\n",
       "  0,\n",
       "  0,\n",
       "  0,\n",
       "  0,\n",
       "  0,\n",
       "  0,\n",
       "  0,\n",
       "  0,\n",
       "  0,\n",
       "  0,\n",
       "  0,\n",
       "  0,\n",
       "  0,\n",
       "  0,\n",
       "  0,\n",
       "  0,\n",
       "  0,\n",
       "  0,\n",
       "  0,\n",
       "  0,\n",
       "  20,\n",
       "  21,\n",
       "  3,\n",
       "  22,\n",
       "  23,\n",
       "  24,\n",
       "  25,\n",
       "  5,\n",
       "  6,\n",
       "  3,\n",
       "  26,\n",
       "  7]]"
      ]
     },
     "execution_count": 11,
     "metadata": {},
     "output_type": "execute_result"
    }
   ],
   "source": [
    "# 系列の長さを揃えるために短い系列にパディングを追加\n",
    "# 後ろパディングだと正しく学習できなかったので、前パディング\n",
    "index_datasets_title = []\n",
    "for title in index_datasets_title_tmp:\n",
    "  for i in range(max_len - len(title)):\n",
    "    title.insert(0, 0) # 前パディング\n",
    "#     title.append(0)　# 後ろパディング\n",
    "  index_datasets_title.append(title)\n",
    "\n",
    "print(type(index_datasets_title))\n",
    "index_datasets_title[:3]"
   ]
  },
  {
   "cell_type": "code",
   "execution_count": 13,
   "metadata": {},
   "outputs": [],
   "source": [
    "train_x, test_x, train_y, test_y = train_test_split(index_datasets_title, index_datasets_category, train_size=0.7)\n"
   ]
  },
  {
   "cell_type": "code",
   "execution_count": 14,
   "metadata": {},
   "outputs": [],
   "source": [
    "# データをバッチでまとめるための関数\n",
    "def train2batch(title, category, batch_size=100):\n",
    "  title_batch = []\n",
    "  category_batch = []\n",
    "  title_shuffle, category_shuffle = shuffle(title, category)\n",
    "  for i in range(0, len(title), batch_size):\n",
    "    title_batch.append(title_shuffle[i:i+batch_size])\n",
    "    category_batch.append(category_shuffle[i:i+batch_size])\n",
    "  return title_batch, category_batch"
   ]
  },
  {
   "cell_type": "markdown",
   "metadata": {},
   "source": [
    "## モデル定義\n",
    "パディング文字列ももちろん埋め込む必要があるわけですが、\\<pad>は0ベクトルで埋め込み、学習の妨げにならないようにする(?)ために、nn.Embedding()にてpadding_idx=0を追加しています。\n",
    "LSTMを定義する際、batch_first=Trueを指定すると、LSTMのインプットの形式がバッチサイズ × 文章の長さ × ベクトル次元数になります。こうしたほうが次元を操作する際にわかりやすいと思います。"
   ]
  },
  {
   "cell_type": "code",
   "execution_count": 15,
   "metadata": {},
   "outputs": [
    {
     "data": {
      "text/plain": [
       "device(type='cpu')"
      ]
     },
     "execution_count": 15,
     "metadata": {},
     "output_type": "execute_result"
    }
   ],
   "source": [
    "import torch\n",
    "import torch.nn as nn\n",
    "import torch.nn.functional as F\n",
    "import torch.optim as optim\n",
    "\n",
    "# GPUを使うために必要\n",
    "device = torch.device(\"cuda\" if torch.cuda.is_available() else \"cpu\")\n",
    "device"
   ]
  },
  {
   "cell_type": "code",
   "execution_count": 29,
   "metadata": {},
   "outputs": [
    {
     "name": "stdout",
     "output_type": "stream",
     "text": [
      "torch.Size([2, 1, 3])\n"
     ]
    },
    {
     "data": {
      "text/plain": [
       "tensor([[[0., 0., 0.]],\n",
       "\n",
       "        [[0., 0., 0.]]])"
      ]
     },
     "execution_count": 29,
     "metadata": {},
     "output_type": "execute_result"
    }
   ],
   "source": [
    "test_x = torch.zeros(2, 1, 3)\n",
    "print(test_x.size())\n",
    "test_x"
   ]
  },
  {
   "cell_type": "code",
   "execution_count": 30,
   "metadata": {},
   "outputs": [
    {
     "name": "stdout",
     "output_type": "stream",
     "text": [
      "torch.Size([2, 3])\n"
     ]
    },
    {
     "data": {
      "text/plain": [
       "tensor([[0., 0., 0.],\n",
       "        [0., 0., 0.]])"
      ]
     },
     "execution_count": 30,
     "metadata": {},
     "output_type": "execute_result"
    }
   ],
   "source": [
    "test_y = torch.squeeze(test_x)\n",
    "print(test_y.size())\n",
    "test_y"
   ]
  },
  {
   "cell_type": "code",
   "execution_count": 16,
   "metadata": {},
   "outputs": [],
   "source": [
    "class LSTMClassifier(nn.Module):\n",
    "    def __init__(self, embedding_dim, hidden_dim, vocab_size, tagset_size):\n",
    "        super(LSTMClassifier, self).__init__()\n",
    "        self.hidden_dim = hidden_dim\n",
    "        # <pad>の単語IDが0なので、padding_idx=0としている\n",
    "        self.word_embeddings = nn.Embedding(vocab_size, embedding_dim, padding_idx=0)\n",
    "        # batch_first=Trueが大事！\n",
    "        # batch_first=Trueを指定すると、LSTMのインプットの形式がバッチサイズ × 文章の長さ(vocab_size) × ベクトル次元数(embedding_dim)になる\n",
    "        self.lstm = nn.LSTM(embedding_dim, hidden_dim, batch_first=True)\n",
    "        # LSTMの出力を受け取って全結合してsoftmaxに食わせるための１層のネットワーク\n",
    "        self.hidden2tag = nn.Linear(hidden_dim, tagset_size)\n",
    "        # softmaxのLog版。dim=0で列、dim=1で行方向を確率変換。\n",
    "        self.softmax = nn.LogSoftmax()\n",
    "\n",
    "    def forward(self, sentence):\n",
    "        embeds = self.word_embeddings(sentence)\n",
    "        # embeds.size() => (batch_size × len(sentence) × embedding_dim)\n",
    "        _, lstm_out = self.lstm(embeds)\n",
    "        # lstm_out[0].size() => (1 × batch_size × hidden_dim)\n",
    "        # lstm_outには2個の要素がある。1つ目が最後の隠れ層の隠れ状態h、2つ目が最後の隠れ層のセル状態c。\n",
    "        # many to one パターンであるため、最後の隠れ層の隠れ状態しか使わないので、lstm_out[0]のみを使う（結合層に渡す）。\n",
    "        tag_space = self.hidden2tag(lstm_out[0])\n",
    "        # tag_space.size() => (1 × batch_size × tagset_size)\n",
    "        # (batch_size × tagset_size)にするためにsqueeze()してから（次元を落としてから）、softmax関数にかける。\n",
    "        # https://pytorch.org/docs/stable/generated/torch.squeeze.html\n",
    "        tag_scores = self.softmax(tag_space.squeeze())\n",
    "        # tag_scores.size() = (batch_size × tagset_size)ｈ\n",
    "\n",
    "        return tag_scores"
   ]
  },
  {
   "cell_type": "code",
   "execution_count": 17,
   "metadata": {},
   "outputs": [],
   "source": [
    "# 単語の埋め込み次元数上げた。精度がそこそこアップ！ハイパーパラメータのチューニング大事。\n",
    "EMBEDDING_DIM = 200\n",
    "HIDDEN_DIM = 128\n",
    "VOCAB_SIZE = len(word2index)\n",
    "TAG_SIZE = len(categories)\n",
    "# to(device)でモデルがGPU対応する\n",
    "model = LSTMClassifier(EMBEDDING_DIM, HIDDEN_DIM, VOCAB_SIZE, TAG_SIZE).to(device)\n",
    "loss_function = nn.NLLLoss()\n",
    "# SGDからAdamに変更。特に意味はなし\n",
    "optimizer = optim.Adam(model.parameters(), lr=0.001)"
   ]
  },
  {
   "cell_type": "markdown",
   "metadata": {},
   "source": [
    "## 学習\n",
    "1epoch毎に全バッチを学習させます。バッチごとに逆伝搬してパラメータ更新させてます。"
   ]
  },
  {
   "cell_type": "code",
   "execution_count": 20,
   "metadata": {},
   "outputs": [
    {
     "name": "stderr",
     "output_type": "stream",
     "text": [
      "<ipython-input-16-aab3ade4ccf8>:21: UserWarning: Implicit dimension choice for log_softmax has been deprecated. Change the call to include dim=X as an argument.\n",
      "  tag_scores = self.softmax(tag_space.squeeze())\n"
     ]
    },
    {
     "name": "stdout",
     "output_type": "stream",
     "text": [
      "epoch 0 \t loss 0.13661400211640284\n",
      "epoch 1 \t loss 0.13620170431022416\n",
      "epoch 2 \t loss 0.13612966685650463\n",
      "epoch 3 \t loss 0.13819118495121074\n",
      "epoch 4 \t loss 0.14383275297768705\n",
      "epoch 5 \t loss 0.14712124737889098\n",
      "epoch 6 \t loss 0.1316488655993453\n",
      "epoch 7 \t loss 0.13583922520228953\n",
      "epoch 8 \t loss 0.1305895293226058\n",
      "epoch 9 \t loss 0.13692181640362833\n",
      "epoch 10 \t loss 0.13482653328537708\n",
      "epoch 11 \t loss 0.13567918756780273\n",
      "epoch 12 \t loss 0.13564856302673434\n",
      "epoch 13 \t loss 0.13599347814215434\n",
      "epoch 14 \t loss 0.13421405123062868\n",
      "epoch 15 \t loss 0.132540587157564\n",
      "epoch 16 \t loss 0.1375290087198664\n",
      "epoch 17 \t loss 0.13283488634078822\n",
      "epoch 18 \t loss 0.13586841316464415\n",
      "epoch 19 \t loss 0.1373059220277355\n",
      "epoch 20 \t loss 0.1484599862324103\n",
      "epoch 21 \t loss 0.14053632319428289\n",
      "epoch 22 \t loss 0.13485393136852508\n",
      "epoch 23 \t loss 0.13069212399568642\n",
      "epoch 24 \t loss 0.13299891740552994\n",
      "epoch 25 \t loss 0.13061609551277797\n",
      "epoch 26 \t loss 0.13553557626164547\n",
      "epoch 27 \t loss 0.1374465470553332\n",
      "epoch 28 \t loss 0.13470133361352055\n",
      "epoch 29 \t loss 0.13286019133511218\n",
      "epoch 30 \t loss 0.13729043724561052\n",
      "epoch 31 \t loss 0.13380660183020154\n",
      "epoch 32 \t loss 0.13325814369454747\n",
      "epoch 33 \t loss 0.13534918798814033\n",
      "epoch 34 \t loss 0.13435454457066953\n",
      "epoch 35 \t loss 0.1327035129215801\n",
      "epoch 36 \t loss 0.13480509409691876\n",
      "epoch 37 \t loss 0.13186443148879334\n",
      "epoch 38 \t loss 0.13525579126235243\n",
      "epoch 39 \t loss 0.14272373370249625\n",
      "epoch 40 \t loss 19.8438740163906\n",
      "epoch 41 \t loss 21.691364288330078\n",
      "epoch 42 \t loss 3.876018736511469\n",
      "epoch 43 \t loss 1.1214749310165644\n",
      "epoch 44 \t loss 0.5760004664771259\n",
      "epoch 45 \t loss 0.42336196871474385\n",
      "epoch 46 \t loss 0.36826919368468225\n",
      "epoch 47 \t loss 0.29594570701010525\n",
      "epoch 48 \t loss 0.26475679280702025\n",
      "epoch 49 \t loss 0.24669301963876933\n",
      "epoch 50 \t loss 0.22470953140873462\n",
      "epoch 51 \t loss 0.21329854626674205\n",
      "epoch 52 \t loss 0.20315057726111263\n",
      "epoch 53 \t loss 0.19367404736112803\n",
      "epoch 54 \t loss 0.18520699703367427\n",
      "epoch 55 \t loss 0.18331937066977844\n",
      "epoch 56 \t loss 0.17389897885732353\n",
      "epoch 57 \t loss 0.17393060881295241\n",
      "epoch 58 \t loss 0.1706145567004569\n",
      "epoch 59 \t loss 0.16978100361302495\n",
      "epoch 60 \t loss 0.17581299858284183\n",
      "epoch 61 \t loss 0.16334956025821157\n",
      "epoch 62 \t loss 0.16279253218090162\n",
      "epoch 63 \t loss 0.15783075016224757\n",
      "epoch 64 \t loss 0.15647670809994452\n",
      "epoch 65 \t loss 0.15343231003498659\n",
      "epoch 66 \t loss 0.15196914208354428\n",
      "epoch 67 \t loss 0.15299723338102922\n",
      "epoch 68 \t loss 0.15220415488875005\n",
      "epoch 69 \t loss 0.15003322882694192\n",
      "epoch 70 \t loss 0.14858576051483396\n",
      "epoch 71 \t loss 0.14851095227641053\n",
      "epoch 72 \t loss 0.14564979911665432\n",
      "epoch 73 \t loss 0.14648975993623026\n",
      "epoch 74 \t loss 0.14550913179118652\n",
      "epoch 75 \t loss 0.1452423624577932\n",
      "epoch 76 \t loss 0.14542800151684787\n",
      "epoch 77 \t loss 0.14699779002694413\n",
      "epoch 78 \t loss 0.14399633584253024\n",
      "epoch 79 \t loss 0.14355725893983617\n",
      "epoch 80 \t loss 0.14011311557260342\n",
      "epoch 81 \t loss 0.15439523053646553\n",
      "epoch 82 \t loss 0.14346084889257327\n",
      "epoch 83 \t loss 0.14762161204998847\n",
      "epoch 84 \t loss 0.13756849833589513\n",
      "epoch 85 \t loss 0.13970064886234468\n",
      "epoch 86 \t loss 0.13820933349779807\n",
      "epoch 87 \t loss 0.13989973767456831\n",
      "epoch 88 \t loss 0.1378808729496086\n",
      "epoch 89 \t loss 0.13963673014222877\n",
      "epoch 90 \t loss 0.13600852718082024\n",
      "epoch 91 \t loss 0.1368367357936222\n",
      "epoch 92 \t loss 0.1335613621486118\n",
      "epoch 93 \t loss 0.14644950415095082\n",
      "epoch 94 \t loss 0.14146687842730898\n",
      "epoch 95 \t loss 0.13625925181258935\n",
      "epoch 96 \t loss 0.13504615986312274\n",
      "epoch 97 \t loss 0.13823892081563827\n",
      "epoch 98 \t loss 0.137235013920872\n",
      "epoch 99 \t loss 0.14067496269854018\n",
      "done.\n"
     ]
    }
   ],
   "source": [
    "losses = []\n",
    "for epoch in range(100):\n",
    "    all_loss = 0\n",
    "    title_batch, category_batch = train2batch(train_x, train_y)\n",
    "    for i in range(len(title_batch)):\n",
    "        batch_loss = 0\n",
    "\n",
    "        model.zero_grad()\n",
    "\n",
    "        # 順伝搬させるtensorはGPUで処理させるためdevice=にGPUをセット\n",
    "        title_tensor = torch.tensor(title_batch[i], device=device)\n",
    "        # category_tensor.size() = (batch_size × 1)なので、squeeze()\n",
    "        category_tensor = torch.tensor(category_batch[i], device=device).squeeze()\n",
    "\n",
    "        out = model(title_tensor)\n",
    "\n",
    "        batch_loss = loss_function(out, category_tensor)\n",
    "        batch_loss.backward()\n",
    "        optimizer.step()\n",
    "\n",
    "        all_loss += batch_loss.item()\n",
    "    losses.append(all_loss)\n",
    "    print(\"epoch\", epoch, \"\\t\" , \"loss\", all_loss)\n",
    "    if all_loss < 0.1: break\n",
    "print(\"done.\")"
   ]
  },
  {
   "cell_type": "code",
   "execution_count": 21,
   "metadata": {},
   "outputs": [
    {
     "data": {
      "text/plain": [
       "[<matplotlib.lines.Line2D at 0x7fd4c55ca880>]"
      ]
     },
     "execution_count": 21,
     "metadata": {},
     "output_type": "execute_result"
    },
    {
     "data": {
      "image/png": "[encoded data removed]",
      "text/plain": [
       "<Figure size 432x288 with 1 Axes>"
      ]
     },
     "metadata": {
      "needs_background": "light"
     },
     "output_type": "display_data"
    }
   ],
   "source": [
    "import matplotlib.pyplot as plt\n",
    "%matplotlib inline\n",
    "plt.plot(losses)"
   ]
  },
  {
   "cell_type": "markdown",
   "metadata": {},
   "source": [
    "## 予測\n",
    "バッチ毎にまとめて予測。\n",
    "前回と比べて精度が上がっているのは単語の埋め込み次元数を上げたからだと思われます。"
   ]
  },
  {
   "cell_type": "code",
   "execution_count": 22,
   "metadata": {},
   "outputs": [
    {
     "name": "stderr",
     "output_type": "stream",
     "text": [
      "<ipython-input-16-aab3ade4ccf8>:21: UserWarning: Implicit dimension choice for log_softmax has been deprecated. Change the call to include dim=X as an argument.\n",
      "  tag_scores = self.softmax(tag_space.squeeze())\n"
     ]
    },
    {
     "name": "stdout",
     "output_type": "stream",
     "text": [
      "predict :  0.7026660641662901\n"
     ]
    }
   ],
   "source": [
    "test_num = len(test_x)\n",
    "a = 0\n",
    "with torch.no_grad():\n",
    "    title_batch, category_batch = train2batch(test_x, test_y)\n",
    "\n",
    "    for i in range(len(title_batch)):\n",
    "        title_tensor = torch.tensor(title_batch[i], device=device)\n",
    "        category_tensor = torch.tensor(category_batch[i], device=device)\n",
    "\n",
    "        out = model(title_tensor)\n",
    "        _, predicts = torch.max(out, 1)\n",
    "        for j, ans in enumerate(category_tensor):\n",
    "            if predicts[j].item() == ans.item():\n",
    "                a += 1\n",
    "print(\"predict : \", a / test_num)"
   ]
  },
  {
   "cell_type": "markdown",
   "metadata": {},
   "source": [
    "## 最後に\n",
    "バッチ化対応の一番苦労したところはやはり次元の扱いでした。私と同じように次元数によるエラーで躓いている方は、全てのtensorの次元を逐一確認して、データの形状を細かく追ってみるのがよいと思います。"
   ]
  }
 ],
 "metadata": {
  "kernelspec": {
   "display_name": "Python(pytorch_lstm)",
   "language": "python",
   "name": "pytorch_lstm"
  },
  "language_info": {
   "codemirror_mode": {
    "name": "ipython",
    "version": 3
   },
   "file_extension": ".py",
   "mimetype": "text/x-python",
   "name": "python",
   "nbconvert_exporter": "python",
   "pygments_lexer": "ipython3",
   "version": "3.8.8"
  },
  "toc-showtags": false
 },
 "nbformat": 4,
 "nbformat_minor": 4
}
