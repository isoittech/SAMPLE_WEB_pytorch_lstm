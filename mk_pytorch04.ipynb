{
 "cells": [
  {
   "cell_type": "markdown",
   "metadata": {},
   "source": [
    "# 概要\n",
    "\n",
    "PyTorchを使ってLSTMで文章分類を実装してみた。    \n",
    "前回のSeq2Seqの実装に引き続き、今回はSeq2SeqにAttentionを加えたAttention Seq2SeqをPyTorchで実装してみました。  \n",
    "\n",
    "自分みたいな初学者でもわかりやすくPyTorchでAttentionを実装しているソースコードがあまり見つからず、PyTorchのAttentionのチュートリアルもあるにはあるのですが、ミニバッチ学習してない(?)っぽいし、このタスク用にあれこれカスタマイズされてそうな感じでもっとシンプルにプレーン(?)なAttentionの実装をしてみたかった、ということで自分でAttentionを実装してみました。  \n",
    "Attentionの実装に手こずっている人に少しでもご参考になる情報をお届けできれば幸いです。  \n",
    "\n",
    "Attentionの仕組みはやはりゼロから作るDeep Learning ❷ ―自然言語処理編が圧倒的にわかりやすかったです。  \n",
    "\n",
    "これからご紹介する実装例は、ゼロ作2のスクラッチによる実装をただPyTorchで真似ただけ(になってるはず)なので、本記事がわかりにくかったら、ゼロ作2を一読されることを強くおすすめします。  \n",
    "\n",
    "https://qiita.com/m__k/items/646044788c5f94eadc8d\n",
    "\n",
    "## 補足\n",
    "Attentionにもsoft Attention、hard Attentionなどいろいろあるかと思いますが、ここでいうAttentionはゼロから作るDeep Learning ❷ ―自然言語処理編で説明されている(softな)Attentionを指すことにします。\n",
    "\n",
    "# Attentionの仕組み\n",
    "## Seq2Seqの課題\n",
    "Seq2SeqはEncoderがインプットの系列の長さによらず、固定長ベクトルに変換してしまうので、長い系列などは特徴が捉えきれない、という課題があります。  \n",
    "Attentionは、この課題を解決すべく、Encoder側のインプットの系列の長さを考慮できる仕組みを用意します。  \n",
    "\n",
    "## 超ざっくり説明\n",
    "超ざっくりとAttentionの説明をすると  \n",
    "\n",
    "1. Encoder側の各隠れ層の値をすべてDecoder側の各層に渡す  \n",
    "1. Decoder側の各層において、Encoder側から渡された各隠れ層のベクトルのうち、最も注意すべきベクトルを選び出して特徴に加える  \n",
    "\n",
    "という操作をします。  \n",
    "1.において、Encoder側の隠れ層ベクトルの数は、Encoder側のインプットとなる系列の長さに依存するので、系列の長さを考慮した形になっている  \n",
    "2.において、選び出すという操作は微分できないが、各要素のどこに注意すべきかを$softmax$で確率的に重み付けした形で選ぶ操作を行います。  \n",
    "\n",
    "## もう少し詳細にAttentionの処理の流れを図を使って説明\n",
    "以下の図は簡単のために、Encoder側のインプットの系列がw1, w2, w3の3つのとき、Decoder側がw'1, w'2の2つのケースを扱っています。  \n",
    "\n",
    "①  \n",
    "Encoder側の各隠れ層の値をそれぞれ$h_{1}$,$h_{2}$, ⋯⋯, $h_{n}$としたとき、$hs$=[$h_{1}$, $h_{2}$,⋯, $h_{n}$] をDecoder側の各層に渡す。  "
   ]
  },
  {
   "cell_type": "markdown",
   "metadata": {},
   "source": [
    "<center><img src=\"./doc/image/4-1.png\" width=800\" align=\"center\"/></center>"
   ]
  },
  {
   "cell_type": "markdown",
   "metadata": {},
   "source": [
    "②  \n",
    "Decoder側の各隠れ層のベクトル(ここでは$d_{i}$とする)と、$h_{s}$の各ベクトル$h_{1}$,$h_{2}$,⋯との内積を計算する。  \n",
    "これはDecoder側の各ベクトルと$hs$の各ベクトルがどれだけ似ているかを計算していることを意味する。（内積は$(⋅,⋅)$で表記してます。）\n",
    "\n",
    "<center><img src=\"./doc/image/4-2.png\" width=\"800\" align=\"center\"/></center>"
   ]
  },
  {
   "cell_type": "markdown",
   "metadata": {},
   "source": [
    "③  \n",
    "②で計算した内積を$softmax$で確率表現に変換する（これをattention weightとか言ったりする）\n",
    "<center><img src=\"./doc/image/4-3.png\" width=\"800\" align=\"center\"/></center>\n",
    "attention weightの1行目は、Encoderの1番目のLSTM/GRUが出力した隠れ状態に対するattention、<br/>\n",
    "2行目は、Encoderの2番目のLSTM/GRUが出力した隠れ状態に対するattention、<br/>\n",
    "：<br/>\n",
    "$attention\\ weight$ = $[[1番目の単語のweight]]$<br/>\n",
    "　　　　　　　　　　$[2番目の単語のweight]$<br/>\n",
    "　　　　　　　　　　$[3番目の単語のweight]$<br/>\n",
    "　　　　　　　　　　：<br/>\n",
    "　　　　　　　　　　$[N番目の単語のweight]]$<br/>"
   ]
  },
  {
   "cell_type": "markdown",
   "metadata": {},
   "source": [
    "④  \n",
    "$hs$の各要素をattention weightで重み付けして全部足しあわせて1本のベクトルとする（これをコンテキストベクトルとかいったりする）\n",
    "<center><img src=\"./doc/image/4-4.png\" width=\"600\" align=\"center\"/></center>"
   ]
  },
  {
   "cell_type": "markdown",
   "metadata": {},
   "source": [
    "⑤  \n",
    "コンテキストベクトルと$d_{i}$を結合して、1本のベクトルにする\n",
    "<center><img src=\"./doc/image/4-5.png\" width=\"800\" align=\"center\"/></center>"
   ]
  },
  {
   "cell_type": "markdown",
   "metadata": {},
   "source": [
    "# 実装\n",
    "- 上で説明した1~5の処理をDecoder側に加えれば完成です。ゼロ作2と同様に日付フォーマットの変換問題を扱います。（attention weightを可視化したとき確からしさが確認しやすいため）\n",
    "- 以下はGoogle Colab上で実装しています。\n",
    "- 前回で説明したSeq2Seqの実装にAttentionの処理を加える形で説明するので、大部分は前回のソースを使いまわしています。前回のソースコードもぜひご参照ください。\n",
    "  - PyTorchでSeq2Seqを実装してみた\n",
    "\n",
    "## 問題設定\n",
    "以下のような様々な日付の書き方をYYYY-MM-DDのフォーマットに変換するタスクをAttention seq2seqで解かせてみます。\n",
    "\n",
    "<center><img src=\"./doc/image/4-9.png\" width=\"300\" align=\"center\"/></center>"
   ]
  },
  {
   "cell_type": "code",
   "execution_count": 36,
   "metadata": {},
   "outputs": [],
   "source": [
    "import os\n",
    "from glob import glob\n",
    "import pandas as pd\n",
    "import seaborn as sns\n",
    "import numpy as np\n",
    "import linecache\n",
    "import torch\n",
    "import torch.nn as nn\n",
    "import torch.optim as optim\n",
    "from sklearn.model_selection import train_test_split\n",
    "import random\n",
    "from sklearn.utils import shuffle \n",
    "import matplotlib.pyplot as plt\n",
    "%matplotlib inline"
   ]
  },
  {
   "cell_type": "markdown",
   "metadata": {},
   "source": [
    "## データ準備\n",
    "https://github.com/oreilly-japan/deep-learning-from-scratch-2/raw/master/dataset/date.txt\n",
    "を入手する。"
   ]
  },
  {
   "cell_type": "code",
   "execution_count": 10,
   "metadata": {},
   "outputs": [
    {
     "name": "stdout",
     "output_type": "stream",
     "text": [
      "date.txt exists.\n"
     ]
    }
   ],
   "source": [
    "file_path = r\"date.txt\"\n",
    "if not os.path.exists(file_path):\n",
    "    !wget https://github.com/oreilly-japan/deep-learning-from-scratch-2/raw/master/dataset/date.txt\n",
    "else:\n",
    "    print(\"date.txt exists.\")"
   ]
  },
  {
   "cell_type": "code",
   "execution_count": 13,
   "metadata": {},
   "outputs": [
    {
     "name": "stdout",
     "output_type": "stream",
     "text": [
      "['september 27, 1994           ', 'August 19, 2003              ', '2/10/93                      ', '10/31/90                     ', 'TUESDAY, SEPTEMBER 25, 1984  ']\n",
      "['_1994-09-27', '_2003-08-19', '_1993-02-10', '_1990-10-31', '_1984-09-25']\n"
     ]
    }
   ],
   "source": [
    "input_date = [] # 変換前の日付データ\n",
    "output_date = [] # 変換後の日付データ\n",
    "\n",
    "# date.txtを1行ずつ読み込んで変換前と変換後に分割して、inputとoutputで分ける\n",
    "with open(file_path, \"r\") as f:\n",
    "  date_list = f.readlines()\n",
    "  for date in date_list:\n",
    "    date = date[:-1]\n",
    "    input_date.append(date.split(\"_\")[0])\n",
    "    output_date.append(\"_\" + date.split(\"_\")[1])\n",
    "\n",
    "print(input_date[:5])\n",
    "print(output_date[:5])"
   ]
  },
  {
   "cell_type": "code",
   "execution_count": 14,
   "metadata": {},
   "outputs": [
    {
     "name": "stdout",
     "output_type": "stream",
     "text": [
      "input_len:29\n",
      "output_len:11\n"
     ]
    }
   ],
   "source": [
    "# inputとoutputの系列の長さを取得\n",
    "# すべて長さが同じなので、0番目の要素でlenを取ってます\n",
    "input_len = len(input_date[0]) # 29\n",
    "output_len = len(output_date[0]) # 10\n",
    "\n",
    "print(f\"input_len:{input_len}\")\n",
    "print(f\"output_len:{output_len}\")"
   ]
  },
  {
   "cell_type": "code",
   "execution_count": 15,
   "metadata": {},
   "outputs": [
    {
     "name": "stdout",
     "output_type": "stream",
     "text": [
      "{'s': 0, 'e': 1, 'p': 2, 't': 3, 'm': 4, 'b': 5, 'r': 6, ' ': 7, '2': 8, '7': 9, ',': 10, '1': 11, '9': 12, '4': 13, '_': 14, '-': 15, '0': 16, 'A': 17, 'u': 18, 'g': 19, '3': 20, '8': 21, '/': 22, 'T': 23, 'U': 24, 'E': 25, 'S': 26, 'D': 27, 'Y': 28, 'P': 29, 'M': 30, 'B': 31, 'R': 32, '5': 33, 'J': 34, 'N': 35, '6': 36, 'a': 37, 'i': 38, 'l': 39, 'O': 40, 'c': 41, 'o': 42, 'G': 43, 'F': 44, 'y': 45, 'n': 46, 'C': 47, 'W': 48, 'd': 49, 'I': 50, 'L': 51, 'j': 52, 'H': 53, 'v': 54, 'h': 55, 'V': 56, 'f': 57, 'w': 58}\n"
     ]
    }
   ],
   "source": [
    "# date.txtで登場するすべての文字にIDを割り当てる\n",
    "char2id = {}\n",
    "for input_chars, output_chars in zip(input_date, output_date):\n",
    "  for c in input_chars:\n",
    "    if not c in char2id:\n",
    "      char2id[c] = len(char2id)\n",
    "  for c in output_chars:\n",
    "    if not c in char2id:\n",
    "      char2id[c] = len(char2id)\n",
    "\n",
    "print(char2id)"
   ]
  },
  {
   "cell_type": "code",
   "execution_count": 16,
   "metadata": {},
   "outputs": [],
   "source": [
    "input_data = [] # ID化された変換前日付データ\n",
    "output_data = [] # ID化された変換後日付データ\n",
    "for input_chars, output_chars in zip(input_date, output_date):\n",
    "  input_data.append([char2id[c] for c in input_chars])\n",
    "  output_data.append([char2id[c] for c in output_chars])\n",
    "\n",
    "# 7:3でtrainとtestに分ける\n",
    "train_x, test_x, train_y, test_y = train_test_split(input_data, output_data, train_size= 0.7)"
   ]
  },
  {
   "cell_type": "code",
   "execution_count": 17,
   "metadata": {},
   "outputs": [],
   "source": [
    "# データをバッチ化するための関数を定義\n",
    "def train2batch(input_data, output_data, batch_size=100):\n",
    "    input_batch = []\n",
    "    output_batch = []\n",
    "    input_shuffle, output_shuffle = shuffle(input_data, output_data)\n",
    "    for i in range(0, len(input_data), batch_size):\n",
    "      input_batch.append(input_shuffle[i:i+batch_size])\n",
    "      output_batch.append(output_shuffle[i:i+batch_size])\n",
    "    return input_batch, output_batch"
   ]
  },
  {
   "cell_type": "markdown",
   "metadata": {},
   "source": [
    "## Encoder\n",
    "- Encoder側はほとんど前回実装したseq2seqから変わりません。\n",
    "- 少しでも楽したいので、LSTMはGRUに変えてます。\n",
    "- GRUの各隠れ層の値はDecoder側でAttentionされるために使うので、GRUの第１戻り値($hs$)も受け取ってます。"
   ]
  },
  {
   "cell_type": "code",
   "execution_count": 19,
   "metadata": {},
   "outputs": [
    {
     "data": {
      "text/plain": [
       "device(type='cpu')"
      ]
     },
     "execution_count": 19,
     "metadata": {},
     "output_type": "execute_result"
    }
   ],
   "source": [
    "# 諸々のパラメータなど\n",
    "embedding_dim = 200\n",
    "hidden_dim = 128\n",
    "BATCH_NUM = 100\n",
    "vocab_size = len(char2id)\n",
    "device = torch.device(\"cuda\" if torch.cuda.is_available() else \"cpu\")\n",
    "device"
   ]
  },
  {
   "cell_type": "code",
   "execution_count": 20,
   "metadata": {},
   "outputs": [],
   "source": [
    "# Encoderクラス\n",
    "class Encoder(nn.Module):\n",
    "    def __init__(self, vocab_size, embedding_dim, hidden_dim):\n",
    "        super(Encoder, self).__init__()\n",
    "        self.hidden_dim = hidden_dim\n",
    "        self.word_embeddings = nn.Embedding(vocab_size, embedding_dim, padding_idx=char2id[\" \"])\n",
    "        self.gru = nn.GRU(embedding_dim, hidden_dim, batch_first=True)\n",
    "\n",
    "    def forward(self, sequence):\n",
    "        embedding = self.word_embeddings(sequence)\n",
    "        # hsが各系列のGRUの隠れ層のベクトル\n",
    "        # Attentionされる要素\n",
    "        hs, h = self.gru(embedding)\n",
    "        return hs, h"
   ]
  },
  {
   "cell_type": "markdown",
   "metadata": {},
   "source": [
    "## Decoder\n",
    "- こっちもEncoder側と同様に前回と比べてLSTMをGRUに変えてます。\n",
    "- 紙とかに各層のテンソルのどの軸がなんの意味なのかを書きながら実装すると頭が整理できます。\n",
    "- 少しでも理解の助けになるためにAttention層の各テンソルのサイズも記載してみました。"
   ]
  },
  {
   "cell_type": "code",
   "execution_count": 42,
   "metadata": {},
   "outputs": [
    {
     "name": "stdout",
     "output_type": "stream",
     "text": [
      "test_x\n",
      "torch.Size([4, 3, 2])\n",
      "tensor([[[ 0.5443, -0.4202],\n",
      "         [ 0.6082, -1.1414],\n",
      "         [-0.0353, -0.1106]],\n",
      "\n",
      "        [[-2.4696,  1.5686],\n",
      "         [-0.4551,  1.1029],\n",
      "         [ 2.2562, -0.6050]],\n",
      "\n",
      "        [[-1.7866, -0.1211],\n",
      "         [ 0.7173, -0.3112],\n",
      "         [ 0.4281,  0.0514]],\n",
      "\n",
      "        [[-0.1109, -0.5966],\n",
      "         [-1.0941,  0.0713],\n",
      "         [ 0.5763, -0.7629]]])\n",
      "----------------------------------------------------------------------------------------------------\n",
      "torch.Size([3, 4, 2])\n",
      "tensor([[[ 0.5443, -0.4202],\n",
      "         [-2.4696,  1.5686],\n",
      "         [-1.7866, -0.1211],\n",
      "         [-0.1109, -0.5966]],\n",
      "\n",
      "        [[ 0.6082, -1.1414],\n",
      "         [-0.4551,  1.1029],\n",
      "         [ 0.7173, -0.3112],\n",
      "         [-1.0941,  0.0713]],\n",
      "\n",
      "        [[-0.0353, -0.1106],\n",
      "         [ 2.2562, -0.6050],\n",
      "         [ 0.4281,  0.0514],\n",
      "         [ 0.5763, -0.7629]]])\n",
      "----------------------------------------------------------------------------------------------------\n",
      "torch.Size([4, 2, 3])\n",
      "tensor([[[ 0.5443,  0.6082, -0.0353],\n",
      "         [-0.4202, -1.1414, -0.1106]],\n",
      "\n",
      "        [[-2.4696, -0.4551,  2.2562],\n",
      "         [ 1.5686,  1.1029, -0.6050]],\n",
      "\n",
      "        [[-1.7866,  0.7173,  0.4281],\n",
      "         [-0.1211, -0.3112,  0.0514]],\n",
      "\n",
      "        [[-0.1109, -1.0941,  0.5763],\n",
      "         [-0.5966,  0.0713, -0.7629]]])\n",
      "----------------------------------------------------------------------------------------------------\n"
     ]
    }
   ],
   "source": [
    "test_x = torch.randn(4, 3, 2)\n",
    "print(\"test_x\")\n",
    "print(test_x.size())\n",
    "print(test_x)\n",
    "print(\"-\" * 100)\n",
    "\n",
    "test_x2 = torch.transpose(test_x, 0, 1)\n",
    "print(test_x2.size())\n",
    "print(test_x2)\n",
    "print(\"-\" * 100)\n",
    "\n",
    "test_x3 = torch.transpose(test_x, 1, 2)\n",
    "print(test_x3.size())\n",
    "print(test_x3)\n",
    "print(\"-\" * 100)"
   ]
  },
  {
   "cell_type": "code",
   "execution_count": 43,
   "metadata": {},
   "outputs": [],
   "source": [
    "# Attention Decoderクラス\n",
    "class AttentionDecoder(nn.Module):\n",
    "    def __init__(self, vocab_size, embedding_dim, hidden_dim, batch_size):\n",
    "        super(AttentionDecoder, self).__init__()\n",
    "        self.hidden_dim = hidden_dim\n",
    "        self.batch_size = batch_size\n",
    "        self.word_embeddings = nn.Embedding(vocab_size, embedding_dim, padding_idx=char2id[\" \"])\n",
    "        self.gru = nn.GRU(embedding_dim, hidden_dim, batch_first=True)\n",
    "        # hidden_dim*2としているのは、各系列のGRUの隠れ層とAttention層で計算したコンテキストベクトルをtorch.catでつなぎ合わせることで長さが２倍になるため\n",
    "        self.hidden2linear = nn.Linear(hidden_dim * 2, vocab_size)\n",
    "        # 列方向を確率変換したいのでdim=1\n",
    "        self.softmax = nn.Softmax(dim=1)\n",
    "\n",
    "    def forward(self, sequence, hs, h):\n",
    "        embedding = self.word_embeddings(sequence)\n",
    "        output, state = self.gru(embedding, h)\n",
    "\n",
    "        # Attention層\n",
    "        # hs.size() = ([100, 29, 128])\n",
    "        # output.size() = ([100, 10, 128])\n",
    "\n",
    "        # bmmを使ってEncoder側の出力(hs)とDecoder側の出力(output)をbatchごとまとめて行列計算するために、Decoder側のoutputをbatchを固定して転置行列を取る\n",
    "        # ※torch.transpose(TENSOR, A, B)\n",
    "        # 　→ テンソルTENSORのA次元目とB次元目を転置する。\n",
    "        t_output = torch.transpose(output, 1, 2) # t_output.size() = ([100, 128, 10])\n",
    "\n",
    "        # bmmで、Encoder側の出力(hs)とDecoder側の出力(output)をバッチも考慮してまとめて行列計算\n",
    "        # つまり[100, 29, 128]hsと[100, 128, 10]outputの行列積の計算をおこなう。\n",
    "        s = torch.bmm(hs, t_output) # s.size() = ([100, 29, 10])\n",
    "\n",
    "        # 列方向(dim=1)でsoftmaxをとって確率表現に変換\n",
    "        # この値を後のAttentionの可視化などにも使うため、returnで返しておく\n",
    "        attention_weight = self.softmax(s) # attention_weight.size() = ([100, 29, 10])\n",
    "\n",
    "        # コンテキストベクトルをまとめるために入れ物を用意\n",
    "        c = torch.zeros(self.batch_size, 1, self.hidden_dim, device=device) # c.size() = ([100, 1, 128])\n",
    "\n",
    "        # 各DecoderのGRU層に対するコンテキストベクトルをまとめて計算する方法がわからなかったので、\n",
    "        # 各層（Decoder側のGRU層は生成文字列が10文字なので10個ある）におけるattention weightを取り出してforループ内でコンテキストベクトルを１つずつ作成する\n",
    "        # バッチ方向はまとめて計算できたのでバッチはそのまま\n",
    "        for i in range(attention_weight.size()[2]): # 10回ループ\n",
    "\n",
    "          # attention_weight[:,:,i].size() = ([100, 29])\n",
    "          # i番目のGRU層に対するattention weightを取り出すが、テンソルのサイズをhsと揃えるためにunsqueezeする\n",
    "          unsq_weight = attention_weight[:,:,i].unsqueeze(2) # unsq_weight.size() = ([100, 29, 1])\n",
    "\n",
    "          # hsの各ベクトルをattention weightで重み付けする\n",
    "          weighted_hs = hs * unsq_weight # weighted_hs.size() = ([100, 29, 128])\n",
    "\n",
    "          # attention weightで重み付けされた各hsのベクトルをすべて足し合わせてコンテキストベクトルを作成\n",
    "          weight_sum = torch.sum(weighted_hs, axis=1).unsqueeze(1) # weight_sum.size() = ([100, 1, 128])\n",
    "\n",
    "          c = torch.cat([c, weight_sum], dim=1) # c.size() = ([100, i, 128])\n",
    "\n",
    "        # 箱として用意したzero要素が残っているのでスライスして削除\n",
    "        c = c[:,1:,:]\n",
    "\n",
    "        output = torch.cat([output, c], dim=2) # output.size() = ([100, 10, 256])\n",
    "        output = self.hidden2linear(output)\n",
    "        return output, state, attention_weight"
   ]
  },
  {
   "cell_type": "markdown",
   "metadata": {},
   "source": [
    "## モデル宣言、損失関数、最適化\n",
    "前回と特に変更なし"
   ]
  },
  {
   "cell_type": "code",
   "execution_count": 22,
   "metadata": {},
   "outputs": [],
   "source": [
    "encoder = Encoder(vocab_size, embedding_dim, hidden_dim).to(device)\n",
    "attn_decoder = AttentionDecoder(vocab_size, embedding_dim, hidden_dim, BATCH_NUM).to(device)\n",
    "\n",
    "# 損失関数\n",
    "criterion = nn.CrossEntropyLoss()\n",
    "\n",
    "# 最適化\n",
    "encoder_optimizer = optim.Adam(encoder.parameters(), lr=0.001)\n",
    "attn_decoder_optimizer = optim.Adam(attn_decoder.parameters(), lr=0.001)"
   ]
  },
  {
   "cell_type": "markdown",
   "metadata": {},
   "source": [
    "## 学習\n",
    "- Encoderのアウトプットである${hs}$を忘れずにAttention Decoderに渡せばOK\n",
    "- EncoderもDecoderもインプットとアウトプットに変更がないので、ほとんど前回のSeq2Seqのときと同じでOK\n",
    "- ものすごい勢いでlossが減っていきます\n",
    "- 以下ではlossの下限を0.1に設定してますが、16epoch目にしてもう到達してしまいます。"
   ]
  },
  {
   "cell_type": "code",
   "execution_count": 23,
   "metadata": {},
   "outputs": [
    {
     "name": "stdout",
     "output_type": "stream",
     "text": [
      "training ...\n",
      "Epoch 1: 1491.27\n",
      "Epoch 2: 95.86\n",
      "Epoch 3: 58.69\n",
      "Epoch 4: 28.38\n",
      "Epoch 5: 21.89\n",
      "Epoch 6: 19.97\n",
      "Epoch 7: 26.15\n",
      "Epoch 8: 3.63\n",
      "Epoch 9: 1.26\n",
      "Epoch 10: 0.78\n",
      "Epoch 11: 0.54\n",
      "Epoch 12: 0.40\n",
      "Epoch 13: 0.30\n",
      "Epoch 14: 0.24\n",
      "Epoch 15: 0.19\n",
      "Epoch 16: 0.15\n",
      "Epoch 17: 0.12\n",
      "Epoch 18: 0.10\n",
      "Done\n"
     ]
    }
   ],
   "source": [
    "BATCH_NUM=100\n",
    "EPOCH_NUM = 100\n",
    "\n",
    "all_losses = []\n",
    "print(\"training ...\")\n",
    "for epoch in range(1, EPOCH_NUM+1):\n",
    "    epoch_loss = 0\n",
    "    # データをミニバッチに分ける\n",
    "    input_batch, output_batch = train2batch(train_x, train_y, batch_size=BATCH_NUM)\n",
    "    for i in range(len(input_batch)):\n",
    "\n",
    "        # 勾配の初期化\n",
    "        encoder_optimizer.zero_grad()\n",
    "        attn_decoder_optimizer.zero_grad()\n",
    "\n",
    "        # データをテンソルに変換\n",
    "        input_tensor = torch.tensor(input_batch[i], device=device)\n",
    "        output_tensor = torch.tensor(output_batch[i], device=device)\n",
    "\n",
    "        # Encoderの順伝搬\n",
    "        hs, h = encoder(input_tensor)\n",
    "\n",
    "        # Attention Decoderのインプット\n",
    "        source = output_tensor[:, :-1]\n",
    "\n",
    "        # Attention Decoderの正解データ\n",
    "        target = output_tensor[:, 1:]\n",
    "\n",
    "        loss = 0\n",
    "        decoder_output, _, attention_weight= attn_decoder(source, hs, h)\n",
    "        for j in range(decoder_output.size()[1]):\n",
    "            loss += criterion(decoder_output[:, j, :], target[:, j])\n",
    "\n",
    "        epoch_loss += loss.item()\n",
    "\n",
    "        # 誤差逆伝播\n",
    "        loss.backward()\n",
    "\n",
    "        # パラメータ更新\n",
    "        encoder_optimizer.step()\n",
    "        attn_decoder_optimizer.step()\n",
    "\n",
    "    # 損失を表示\n",
    "    print(\"Epoch %d: %.2f\" % (epoch, epoch_loss))\n",
    "    all_losses.append(epoch_loss)\n",
    "    if epoch_loss < 0.1: break\n",
    "print(\"Done\")"
   ]
  },
  {
   "cell_type": "code",
   "execution_count": 26,
   "metadata": {},
   "outputs": [
    {
     "data": {
      "text/plain": [
       "[<matplotlib.lines.Line2D at 0x7f932c3e4760>]"
      ]
     },
     "execution_count": 26,
     "metadata": {},
     "output_type": "execute_result"
    },
    {
     "data": {
      "image/png": "[encoded data removed]",
      "text/plain": [
       "<Figure size 432x288 with 1 Axes>"
      ]
     },
     "metadata": {
      "needs_background": "light"
     },
     "output_type": "display_data"
    }
   ],
   "source": [
    "plt.plot(all_losses)"
   ]
  },
  {
   "cell_type": "markdown",
   "metadata": {},
   "source": [
    "## 予測\n",
    "- 前回のSeq2Seqのときの予測とほぼ同じ方法で予測させてます。"
   ]
  },
  {
   "cell_type": "code",
   "execution_count": 27,
   "metadata": {},
   "outputs": [],
   "source": [
    "# Decoderのアウトプットのテンソルから要素が最大のインデックスを返す。つまり生成文字を意味する\n",
    "def get_max_index(decoder_output):\n",
    "  results = []\n",
    "  for h in decoder_output:\n",
    "    results.append(torch.argmax(h))\n",
    "  return torch.tensor(results, device=device).view(BATCH_NUM, 1)"
   ]
  },
  {
   "cell_type": "code",
   "execution_count": 28,
   "metadata": {},
   "outputs": [],
   "source": [
    "# 評価用データ\n",
    "test_input_batch, test_output_batch = train2batch(test_x, test_y)\n",
    "input_tensor = torch.tensor(test_input_batch, device=device)"
   ]
  },
  {
   "cell_type": "code",
   "execution_count": 29,
   "metadata": {},
   "outputs": [],
   "source": [
    "predicts = []\n",
    "for i in range(len(test_input_batch)):\n",
    "  with torch.no_grad():\n",
    "    hs, encoder_state = encoder(input_tensor[i])\n",
    "\n",
    "    # Decoderにはまず文字列生成開始を表す\"_\"をインプットにするので、\"_\"のtensorをバッチサイズ分作成\n",
    "    start_char_batch = [[char2id[\"_\"]] for _ in range(BATCH_NUM)]\n",
    "    decoder_input_tensor = torch.tensor(start_char_batch, device=device)\n",
    "\n",
    "    decoder_hidden = encoder_state\n",
    "    batch_tmp = torch.zeros(100,1, dtype=torch.long, device=device)\n",
    "    for _ in range(output_len - 1):\n",
    "      decoder_output, decoder_hidden, _ = attn_decoder(decoder_input_tensor, hs, decoder_hidden)\n",
    "      # 予測文字を取得しつつ、そのまま次のdecoderのインプットとなる\n",
    "      decoder_input_tensor = get_max_index(decoder_output.squeeze())\n",
    "      batch_tmp = torch.cat([batch_tmp, decoder_input_tensor], dim=1)\n",
    "    predicts.append(batch_tmp[:,1:])"
   ]
  },
  {
   "cell_type": "code",
   "execution_count": 30,
   "metadata": {},
   "outputs": [],
   "source": [
    "# 予測結果を見る際にIDのままだと可読性が悪いので、もとの文字列に復元するためのID→文字列に変換する辞書を定義\n",
    "id2char = {}\n",
    "for k, v in char2id.items():\n",
    "  id2char[v] = k"
   ]
  },
  {
   "cell_type": "code",
   "execution_count": 31,
   "metadata": {},
   "outputs": [
    {
     "data": {
      "text/html": [
       "<div>\n",
       "<style scoped>\n",
       "    .dataframe tbody tr th:only-of-type {\n",
       "        vertical-align: middle;\n",
       "    }\n",
       "\n",
       "    .dataframe tbody tr th {\n",
       "        vertical-align: top;\n",
       "    }\n",
       "\n",
       "    .dataframe thead th {\n",
       "        text-align: right;\n",
       "    }\n",
       "</style>\n",
       "<table border=\"1\" class=\"dataframe\">\n",
       "  <thead>\n",
       "    <tr style=\"text-align: right;\">\n",
       "      <th></th>\n",
       "      <th>input</th>\n",
       "      <th>answer</th>\n",
       "      <th>predict</th>\n",
       "      <th>judge</th>\n",
       "    </tr>\n",
       "  </thead>\n",
       "  <tbody>\n",
       "    <tr>\n",
       "      <th>0</th>\n",
       "      <td>1/22/98</td>\n",
       "      <td>1998-01-22</td>\n",
       "      <td>1998-01-22</td>\n",
       "      <td>O</td>\n",
       "    </tr>\n",
       "    <tr>\n",
       "      <th>1</th>\n",
       "      <td>December 10, 1986</td>\n",
       "      <td>1986-12-10</td>\n",
       "      <td>1986-12-10</td>\n",
       "      <td>O</td>\n",
       "    </tr>\n",
       "    <tr>\n",
       "      <th>2</th>\n",
       "      <td>thursday, june 4, 2015</td>\n",
       "      <td>2015-06-04</td>\n",
       "      <td>2015-06-04</td>\n",
       "      <td>O</td>\n",
       "    </tr>\n",
       "    <tr>\n",
       "      <th>3</th>\n",
       "      <td>JANUARY 16, 1974</td>\n",
       "      <td>1974-01-16</td>\n",
       "      <td>1974-01-16</td>\n",
       "      <td>O</td>\n",
       "    </tr>\n",
       "    <tr>\n",
       "      <th>4</th>\n",
       "      <td>6/21/81</td>\n",
       "      <td>1981-06-21</td>\n",
       "      <td>1981-06-21</td>\n",
       "      <td>O</td>\n",
       "    </tr>\n",
       "  </tbody>\n",
       "</table>\n",
       "</div>"
      ],
      "text/plain": [
       "                           input      answer     predict judge\n",
       "0  1/22/98                        1998-01-22  1998-01-22     O\n",
       "1  December 10, 1986              1986-12-10  1986-12-10     O\n",
       "2  thursday, june 4, 2015         2015-06-04  2015-06-04     O\n",
       "3  JANUARY 16, 1974               1974-01-16  1974-01-16     O\n",
       "4  6/21/81                        1981-06-21  1981-06-21     O"
      ]
     },
     "execution_count": 31,
     "metadata": {},
     "output_type": "execute_result"
    }
   ],
   "source": [
    "row = []\n",
    "for i in range(len(test_input_batch)):\n",
    "  batch_input = test_input_batch[i]\n",
    "  batch_output = test_output_batch[i]\n",
    "  batch_predict = predicts[i]\n",
    "  for inp, output, predict in zip(batch_input, batch_output, batch_predict):\n",
    "    x = [id2char[idx] for idx in inp]\n",
    "    y = [id2char[idx] for idx in output[1:]]\n",
    "    p = [id2char[idx.item()] for idx in predict]\n",
    "\n",
    "    x_str = \"\".join(x)\n",
    "    y_str = \"\".join(y)\n",
    "    p_str = \"\".join(p)\n",
    "\n",
    "    judge = \"O\" if y_str == p_str else \"X\"\n",
    "    row.append([x_str, y_str, p_str, judge])\n",
    "predict_df = pd.DataFrame(row, columns=[\"input\", \"answer\", \"predict\", \"judge\"])\n",
    "predict_df.head()"
   ]
  },
  {
   "cell_type": "markdown",
   "metadata": {},
   "source": [
    "### 正解率\n",
    "- 今回たまたま100%ではなかったですが、だいたい100%の正答率になると思います。\n",
    "- 本タスクを間違えるときはだいたい以下のようなスラッシュ区切りの日付フォーマットが多いように感じます。"
   ]
  },
  {
   "cell_type": "code",
   "execution_count": 32,
   "metadata": {},
   "outputs": [
    {
     "name": "stdout",
     "output_type": "stream",
     "text": [
      "1.0\n"
     ]
    },
    {
     "data": {
      "text/html": [
       "<div>\n",
       "<style scoped>\n",
       "    .dataframe tbody tr th:only-of-type {\n",
       "        vertical-align: middle;\n",
       "    }\n",
       "\n",
       "    .dataframe tbody tr th {\n",
       "        vertical-align: top;\n",
       "    }\n",
       "\n",
       "    .dataframe thead th {\n",
       "        text-align: right;\n",
       "    }\n",
       "</style>\n",
       "<table border=\"1\" class=\"dataframe\">\n",
       "  <thead>\n",
       "    <tr style=\"text-align: right;\">\n",
       "      <th></th>\n",
       "      <th>input</th>\n",
       "      <th>answer</th>\n",
       "      <th>predict</th>\n",
       "      <th>judge</th>\n",
       "    </tr>\n",
       "  </thead>\n",
       "  <tbody>\n",
       "  </tbody>\n",
       "</table>\n",
       "</div>"
      ],
      "text/plain": [
       "Empty DataFrame\n",
       "Columns: [input, answer, predict, judge]\n",
       "Index: []"
      ]
     },
     "execution_count": 32,
     "metadata": {},
     "output_type": "execute_result"
    }
   ],
   "source": [
    "print(len(predict_df.query('judge == \"O\"')) / len(predict_df))\n",
    "\n",
    "predict_df.query('judge == \"X\"').head(10)"
   ]
  },
  {
   "cell_type": "markdown",
   "metadata": {},
   "source": [
    "## attention weight 可視化\n",
    "- Attentionの醍醐味の1つであるattention weightの可視化をしてみます。\n",
    "- attention weightを見ることで学習の確からしさを確認することができます。\n",
    "- attention weightの可視化にはよくheatmapが使われるので、seabornのheatmapで可視化してます。\n",
    "- 7:3に分けた3のほうのテストデータをバッチに分けたうちの最初のミニバッチを流しています。"
   ]
  },
  {
   "cell_type": "code",
   "execution_count": 33,
   "metadata": {},
   "outputs": [],
   "source": [
    "input_batch, output_batch = train2batch(test_x, test_y, batch_size=BATCH_NUM)\n",
    "input_minibatch, output_minibatch = input_batch[0], output_batch[0]"
   ]
  },
  {
   "cell_type": "code",
   "execution_count": 34,
   "metadata": {},
   "outputs": [],
   "source": [
    "with torch.no_grad():\n",
    "  # データをテンソルに変換\n",
    "  input_tensor = torch.tensor(input_minibatch, device=device)\n",
    "  output_tensor = torch.tensor(output_minibatch, device=device)\n",
    "  hs, h = encoder(input_tensor)\n",
    "  source = output_tensor[:, :-1]\n",
    "  decoder_output, _, attention_weight= attn_decoder(source, hs, h)\n"
   ]
  },
  {
   "cell_type": "code",
   "execution_count": 37,
   "metadata": {},
   "outputs": [
    {
     "data": {
      "image/png": "[encoded data removed]",
      "text/plain": [
       "<Figure size 864x576 with 2 Axes>"
      ]
     },
     "metadata": {
      "needs_background": "light"
     },
     "output_type": "display_data"
    },
    {
     "data": {
      "image/png": "[encoded data removed]",
      "text/plain": [
       "<Figure size 864x576 with 2 Axes>"
      ]
     },
     "metadata": {
      "needs_background": "light"
     },
     "output_type": "display_data"
    },
    {
     "data": {
      "image/png": "[encoded data removed]",
      "text/plain": [
       "<Figure size 864x576 with 2 Axes>"
      ]
     },
     "metadata": {
      "needs_background": "light"
     },
     "output_type": "display_data"
    }
   ],
   "source": [
    "for i in range(3):\n",
    "  with torch.no_grad():\n",
    "    df = pd.DataFrame(data=torch.transpose(attention_weight[i], 0, 1).cpu().numpy(), \n",
    "                      columns=[id2char[idx.item()] for idx in input_tensor[i]], \n",
    "                      index=[id2char[idx.item()] for idx in output_tensor[i][1:]])\n",
    "    plt.figure(figsize=(12, 8)) \n",
    "    sns.heatmap(df, xticklabels = 1, yticklabels = 1, square=True, linewidths=.3,cbar_kws = dict(use_gridspec=False,location=\"top\"))"
   ]
  },
  {
   "cell_type": "markdown",
   "metadata": {},
   "source": [
    "### 可視化をいくつか紹介\n",
    "<center><img src=\"./doc/image/4-6.png\" width=\"800\" align=\"center\"/></center>\n",
    "\n",
    "少々見づらくて恐縮ですが、上図の下の文字「Tuesday, March 27, 2012」が変換前の文字列（Encoderのインプット）で、左の縦に並んでいる「2012-03-27」が生成文字です。  \n",
    "このheatmapの見方ですが、Decoderの生成文字を１文字ずつ見たとき、左に並んでいるボックスの色が一番明るいところの文字に一番attentionして生成された文字ですよ、という意味になると思います。（違ってたらご指摘ください...）  \n",
    "(もちろん左方向にボックスの値をすべて足せば1になりますね。)  \n",
    "\n",
    "上図の例だと、以下のことがわかるのではないかと思います。  \n",
    "\n",
    "- 全体的にYYYYを生成するなら年の部分、MMを生成するなら月の部分に注目していることが伺えます。\n",
    "- 今回のタスクはYYYY-MM-DDへの変換、つまり曜日は変換されないので、「Tuesday」にはどの生成文字も注目していない\n",
    "- 「March」の「a」の部分を「0」がattentionしてます。「May」なら「05」、「March」なら「04」ですが、「Ma」と文字が並べば「0」の生成が確定しており、その後「rch」と文字が並んでいるので、最後の「h」に3が注目してるって感じ？\n",
    "\n",
    "※今回は生成されるべき正解の文字を表示しちゃってます。今回は正答率がほぼ100%なので、同じかと思いますが、ちゃんとやるならDecoderが生成した文字を１文字ずつ集計してattention weightを作成したほうが良いんだろうなぁと思います。手抜きで申し訳ございません...\n",
    "\n",
    "他にもこんな感じでAttentionされてます↓\n",
    "\n",
    "<center><img src=\"./doc/image/4-7.png\" width=\"800\" align=\"center\"/></center>\n",
    "<center><img src=\"./doc/image/4-8.png\" width=\"800\" align=\"center\"/></center>"
   ]
  }
 ],
 "metadata": {
  "kernelspec": {
   "display_name": "Python(pytorch_lstm)",
   "language": "python",
   "name": "pytorch_lstm"
  },
  "language_info": {
   "codemirror_mode": {
    "name": "ipython",
    "version": 3
   },
   "file_extension": ".py",
   "mimetype": "text/x-python",
   "name": "python",
   "nbconvert_exporter": "python",
   "pygments_lexer": "ipython3",
   "version": "3.8.8"
  },
  "toc-showtags": false
 },
 "nbformat": 4,
 "nbformat_minor": 4
}
